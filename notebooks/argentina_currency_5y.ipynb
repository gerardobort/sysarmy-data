{
 "cells": [
  {
   "cell_type": "markdown",
   "metadata": {},
   "source": [
    "# Argentine Peso AR\\$ currency over time\n",
    "\n",
    "## Datasets\n",
    "\n",
    "### Argentine Peso AR\\$ to US\\$\n",
    "\n",
    "| Period  | Path                 | URL                                                                                                     |\n",
    "|---------|----------------------|---------------------------------------------------------------------------------------------------------|\n",
    "| 5Y      | data/usdars-cur.json | https://www.bloomberg.com/markets/api/bulk-time-series/price/USDARS%3ACUR?timeFrame=5_YEAR              |\n",
    "\n"
   ]
  },
  {
   "cell_type": "code",
   "execution_count": 9,
   "metadata": {
    "collapsed": false,
    "scrolled": false
   },
   "outputs": [
    {
     "data": {
      "text/html": [
       "<div>\n",
       "<table border=\"1\" class=\"dataframe\">\n",
       "  <thead>\n",
       "    <tr style=\"text-align: right;\">\n",
       "      <th></th>\n",
       "      <th>0</th>\n",
       "      <th>1</th>\n",
       "      <th>2</th>\n",
       "      <th>3</th>\n",
       "      <th>4</th>\n",
       "      <th>5</th>\n",
       "      <th>6</th>\n",
       "      <th>7</th>\n",
       "      <th>8</th>\n",
       "      <th>9</th>\n",
       "      <th>...</th>\n",
       "      <th>252</th>\n",
       "      <th>253</th>\n",
       "      <th>254</th>\n",
       "      <th>255</th>\n",
       "      <th>256</th>\n",
       "      <th>257</th>\n",
       "      <th>258</th>\n",
       "      <th>259</th>\n",
       "      <th>260</th>\n",
       "      <th>261</th>\n",
       "    </tr>\n",
       "  </thead>\n",
       "  <tbody>\n",
       "    <tr>\n",
       "      <th>date</th>\n",
       "      <td>2012-08-03 00:00:00</td>\n",
       "      <td>2012-08-10 00:00:00</td>\n",
       "      <td>2012-08-17 00:00:00</td>\n",
       "      <td>2012-08-24 00:00:00</td>\n",
       "      <td>2012-08-31 00:00:00</td>\n",
       "      <td>2012-09-07 00:00:00</td>\n",
       "      <td>2012-09-14 00:00:00</td>\n",
       "      <td>2012-09-21 00:00:00</td>\n",
       "      <td>2012-09-28 00:00:00</td>\n",
       "      <td>2012-10-05 00:00:00</td>\n",
       "      <td>...</td>\n",
       "      <td>2017-06-02 00:00:00</td>\n",
       "      <td>2017-06-09 00:00:00</td>\n",
       "      <td>2017-06-16 00:00:00</td>\n",
       "      <td>2017-06-23 00:00:00</td>\n",
       "      <td>2017-06-30 00:00:00</td>\n",
       "      <td>2017-07-07 00:00:00</td>\n",
       "      <td>2017-07-14 00:00:00</td>\n",
       "      <td>2017-07-21 00:00:00</td>\n",
       "      <td>2017-07-28 00:00:00</td>\n",
       "      <td>2017-07-31 00:00:00</td>\n",
       "    </tr>\n",
       "    <tr>\n",
       "      <th>value</th>\n",
       "      <td>4.5886</td>\n",
       "      <td>4.6018</td>\n",
       "      <td>4.615</td>\n",
       "      <td>4.6255</td>\n",
       "      <td>4.6385</td>\n",
       "      <td>4.66</td>\n",
       "      <td>4.6715</td>\n",
       "      <td>4.685</td>\n",
       "      <td>4.6966</td>\n",
       "      <td>4.709</td>\n",
       "      <td>...</td>\n",
       "      <td>16.0075</td>\n",
       "      <td>15.8991</td>\n",
       "      <td>16.0471</td>\n",
       "      <td>16.1849</td>\n",
       "      <td>16.6278</td>\n",
       "      <td>16.9678</td>\n",
       "      <td>16.849</td>\n",
       "      <td>17.4113</td>\n",
       "      <td>17.795</td>\n",
       "      <td>17.6436</td>\n",
       "    </tr>\n",
       "  </tbody>\n",
       "</table>\n",
       "<p>2 rows × 262 columns</p>\n",
       "</div>"
      ],
      "text/plain": [
       "                       0                    1                    2    \\\n",
       "date   2012-08-03 00:00:00  2012-08-10 00:00:00  2012-08-17 00:00:00   \n",
       "value               4.5886               4.6018                4.615   \n",
       "\n",
       "                       3                    4                    5    \\\n",
       "date   2012-08-24 00:00:00  2012-08-31 00:00:00  2012-09-07 00:00:00   \n",
       "value               4.6255               4.6385                 4.66   \n",
       "\n",
       "                       6                    7                    8    \\\n",
       "date   2012-09-14 00:00:00  2012-09-21 00:00:00  2012-09-28 00:00:00   \n",
       "value               4.6715                4.685               4.6966   \n",
       "\n",
       "                       9           ...                           252  \\\n",
       "date   2012-10-05 00:00:00         ...           2017-06-02 00:00:00   \n",
       "value                4.709         ...                       16.0075   \n",
       "\n",
       "                       253                  254                  255  \\\n",
       "date   2017-06-09 00:00:00  2017-06-16 00:00:00  2017-06-23 00:00:00   \n",
       "value              15.8991              16.0471              16.1849   \n",
       "\n",
       "                       256                  257                  258  \\\n",
       "date   2017-06-30 00:00:00  2017-07-07 00:00:00  2017-07-14 00:00:00   \n",
       "value              16.6278              16.9678               16.849   \n",
       "\n",
       "                       259                  260                  261  \n",
       "date   2017-07-21 00:00:00  2017-07-28 00:00:00  2017-07-31 00:00:00  \n",
       "value              17.4113               17.795              17.6436  \n",
       "\n",
       "[2 rows x 262 columns]"
      ]
     },
     "execution_count": 9,
     "metadata": {},
     "output_type": "execute_result"
    }
   ],
   "source": [
    "import pandas as pd\n",
    "import json\n",
    "\n",
    "with open('../data/usdars-cur.json') as data_file:    \n",
    "    data = json.load(data_file)  \n",
    "    df = pd.DataFrame(data[0]['price'])\n",
    "    df.date = pd.to_datetime(df.date)\n",
    "df.T"
   ]
  },
  {
   "cell_type": "code",
   "execution_count": 10,
   "metadata": {
    "collapsed": false
   },
   "outputs": [
    {
     "data": {
      "text/plain": [
       "<matplotlib.legend.Legend at 0x10c432da0>"
      ]
     },
     "execution_count": 10,
     "metadata": {},
     "output_type": "execute_result"
    },
    {
     "data": {
      "image/png": "[encoded data removed]",
      "text/plain": [
       "<matplotlib.figure.Figure at 0x10c949cc0>"
      ]
     },
     "metadata": {},
     "output_type": "display_data"
    }
   ],
   "source": [
    "import matplotlib.pyplot as plt\n",
    "%matplotlib inline\n",
    "\n",
    "plt.rcParams.update({'figure.figsize': (10.0, 6.0), 'font.size': 8})\n",
    "\n",
    "plt.plot(df.date, df.value, label='AR\\$ currency equivalent to 1 US\\$', ls='-')\n",
    "plt.xlabel('time'); plt.ylabel('AR\\$')\n",
    "plt.legend()"
   ]
  }
 ],
 "metadata": {
  "kernelspec": {
   "display_name": "Python 3",
   "language": "python",
   "name": "python3"
  },
  "language_info": {
   "codemirror_mode": {
    "name": "ipython",
    "version": 3
   },
   "file_extension": ".py",
   "mimetype": "text/x-python",
   "name": "python",
   "nbconvert_exporter": "python",
   "pygments_lexer": "ipython3",
   "version": "3.6.0"
  }
 },
 "nbformat": 4,
 "nbformat_minor": 2
}
