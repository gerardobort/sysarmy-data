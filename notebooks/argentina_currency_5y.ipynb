{
 "cells": [
  {
   "cell_type": "markdown",
   "metadata": {},
   "source": [
    "# Argentine Peso AR\\$ currency over time\n",
    "\n",
    "## Datasets\n",
    "\n",
    "### Argentine Peso AR\\$ to US\\$\n",
    "\n",
    "| Period  | Path                 | URL                                                                                                     |\n",
    "|---------|----------------------|---------------------------------------------------------------------------------------------------------|\n",
    "| 5Y      | data/usdars-cur.json | https://www.bloomberg.com/markets/api/bulk-time-series/price/USDARS%3ACUR?timeFrame=5_YEAR              |\n",
    "\n"
   ]
  },
  {
   "cell_type": "code",
   "execution_count": 1,
   "metadata": {
    "collapsed": false,
    "scrolled": false
   },
   "outputs": [
    {
     "data": {
      "text/html": [
       "<div>\n",
       "<table border=\"1\" class=\"dataframe\">\n",
       "  <thead>\n",
       "    <tr style=\"text-align: right;\">\n",
       "      <th></th>\n",
       "      <th>0</th>\n",
       "      <th>1</th>\n",
       "      <th>2</th>\n",
       "      <th>3</th>\n",
       "      <th>4</th>\n",
       "      <th>5</th>\n",
       "      <th>6</th>\n",
       "      <th>7</th>\n",
       "      <th>8</th>\n",
       "      <th>9</th>\n",
       "      <th>...</th>\n",
       "      <th>251</th>\n",
       "      <th>252</th>\n",
       "      <th>253</th>\n",
       "      <th>254</th>\n",
       "      <th>255</th>\n",
       "      <th>256</th>\n",
       "      <th>257</th>\n",
       "      <th>258</th>\n",
       "      <th>259</th>\n",
       "      <th>260</th>\n",
       "    </tr>\n",
       "  </thead>\n",
       "  <tbody>\n",
       "    <tr>\n",
       "      <th>date</th>\n",
       "      <td>2013-03-08 00:00:00</td>\n",
       "      <td>2013-03-15 00:00:00</td>\n",
       "      <td>2013-03-22 00:00:00</td>\n",
       "      <td>2013-03-29 00:00:00</td>\n",
       "      <td>2013-04-05 00:00:00</td>\n",
       "      <td>2013-04-12 00:00:00</td>\n",
       "      <td>2013-04-19 00:00:00</td>\n",
       "      <td>2013-04-26 00:00:00</td>\n",
       "      <td>2013-05-03 00:00:00</td>\n",
       "      <td>2013-05-10 00:00:00</td>\n",
       "      <td>...</td>\n",
       "      <td>2017-12-29 00:00:00</td>\n",
       "      <td>2018-01-05 00:00:00</td>\n",
       "      <td>2018-01-12 00:00:00</td>\n",
       "      <td>2018-01-19 00:00:00</td>\n",
       "      <td>2018-01-26 00:00:00</td>\n",
       "      <td>2018-02-02 00:00:00</td>\n",
       "      <td>2018-02-09 00:00:00</td>\n",
       "      <td>2018-02-16 00:00:00</td>\n",
       "      <td>2018-02-23 00:00:00</td>\n",
       "      <td>2018-03-02 00:00:00</td>\n",
       "    </tr>\n",
       "    <tr>\n",
       "      <th>value</th>\n",
       "      <td>5.0655</td>\n",
       "      <td>5.091</td>\n",
       "      <td>5.1112</td>\n",
       "      <td>5.1213</td>\n",
       "      <td>5.136</td>\n",
       "      <td>5.1485</td>\n",
       "      <td>5.1635</td>\n",
       "      <td>5.1765</td>\n",
       "      <td>5.1985</td>\n",
       "      <td>5.2284</td>\n",
       "      <td>...</td>\n",
       "      <td>18.6232</td>\n",
       "      <td>18.883</td>\n",
       "      <td>18.686</td>\n",
       "      <td>18.9906</td>\n",
       "      <td>19.5708</td>\n",
       "      <td>19.4841</td>\n",
       "      <td>19.9969</td>\n",
       "      <td>19.7687</td>\n",
       "      <td>19.9752</td>\n",
       "      <td>20.2833</td>\n",
       "    </tr>\n",
       "  </tbody>\n",
       "</table>\n",
       "<p>2 rows × 261 columns</p>\n",
       "</div>"
      ],
      "text/plain": [
       "                       0                    1                    2    \\\n",
       "date   2013-03-08 00:00:00  2013-03-15 00:00:00  2013-03-22 00:00:00   \n",
       "value               5.0655                5.091               5.1112   \n",
       "\n",
       "                       3                    4                    5    \\\n",
       "date   2013-03-29 00:00:00  2013-04-05 00:00:00  2013-04-12 00:00:00   \n",
       "value               5.1213                5.136               5.1485   \n",
       "\n",
       "                       6                    7                    8    \\\n",
       "date   2013-04-19 00:00:00  2013-04-26 00:00:00  2013-05-03 00:00:00   \n",
       "value               5.1635               5.1765               5.1985   \n",
       "\n",
       "                       9           ...                           251  \\\n",
       "date   2013-05-10 00:00:00         ...           2017-12-29 00:00:00   \n",
       "value               5.2284         ...                       18.6232   \n",
       "\n",
       "                       252                  253                  254  \\\n",
       "date   2018-01-05 00:00:00  2018-01-12 00:00:00  2018-01-19 00:00:00   \n",
       "value               18.883               18.686              18.9906   \n",
       "\n",
       "                       255                  256                  257  \\\n",
       "date   2018-01-26 00:00:00  2018-02-02 00:00:00  2018-02-09 00:00:00   \n",
       "value              19.5708              19.4841              19.9969   \n",
       "\n",
       "                       258                  259                  260  \n",
       "date   2018-02-16 00:00:00  2018-02-23 00:00:00  2018-03-02 00:00:00  \n",
       "value              19.7687              19.9752              20.2833  \n",
       "\n",
       "[2 rows x 261 columns]"
      ]
     },
     "execution_count": 1,
     "metadata": {},
     "output_type": "execute_result"
    }
   ],
   "source": [
    "import pandas as pd\n",
    "import json\n",
    "\n",
    "with open('../data/usdars-cur.json') as data_file:    \n",
    "    data = json.load(data_file)  \n",
    "    df = pd.DataFrame(data[0]['price'])\n",
    "    df.date = pd.to_datetime(df.date)\n",
    "df.T"
   ]
  },
  {
   "cell_type": "code",
   "execution_count": 2,
   "metadata": {
    "collapsed": false
   },
   "outputs": [
    {
     "data": {
      "text/plain": [
       "<matplotlib.legend.Legend at 0x106b99278>"
      ]
     },
     "execution_count": 2,
     "metadata": {},
     "output_type": "execute_result"
    },
    {
     "data": {
      "image/png": "[encoded data removed]",
      "text/plain": [
       "<matplotlib.figure.Figure at 0x106b992e8>"
      ]
     },
     "metadata": {},
     "output_type": "display_data"
    }
   ],
   "source": [
    "import matplotlib.pyplot as plt\n",
    "%matplotlib inline\n",
    "\n",
    "plt.rcParams.update({'figure.figsize': (10.0, 6.0), 'font.size': 8})\n",
    "\n",
    "plt.plot(df.date, df.value, label='AR\\$ currency equivalent to 1 US\\$', ls='-')\n",
    "plt.xlabel('time'); plt.ylabel('AR\\$')\n",
    "plt.legend()"
   ]
  },
  {
   "cell_type": "code",
   "execution_count": null,
   "metadata": {
    "collapsed": true
   },
   "outputs": [],
   "source": []
  }
 ],
 "metadata": {
  "kernelspec": {
   "display_name": "Python 3",
   "language": "python",
   "name": "python3"
  },
  "language_info": {
   "codemirror_mode": {
    "name": "ipython",
    "version": 3
   },
   "file_extension": ".py",
   "mimetype": "text/x-python",
   "name": "python",
   "nbconvert_exporter": "python",
   "pygments_lexer": "ipython3",
   "version": "3.6.0"
  }
 },
 "nbformat": 4,
 "nbformat_minor": 2
}
