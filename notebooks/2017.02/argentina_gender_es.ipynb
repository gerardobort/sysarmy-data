{
 "cells": [
  {
   "cell_type": "markdown",
   "metadata": {},
   "source": [
    "# SysArmy Surveys: Análisis por género de los resultados de todas las encuestas\n",
    "\n",
    "Datos actualizados al 2do período de 2017\n",
    "\n",
    "NOTA: Los primeros dos datasets no contienen información sobre género.\n",
    "\n",
    "NOTA2: Los sueldos indicados son llevados a bruto, es decir, algunos encuestados optaron por informar sueldos netos,  estos valores netos fueron llevados a bruto mediante un cálculo simple pero a la vez impreciso.  Es importante aclarar que la imprecisión de la conversión tiende a la baja del salario, ya que no se tuvieron en cuenta descuentos por ganancias u otros beneficios.\n",
    "\n",
    "### Datasets de sueldos\n",
    "\n",
    "| Period  | Path             | URL                                                                                                         |\n",
    "|---------|------------------|-------------------------------------------------------------------------------------------------------------|\n",
    "| ~~2014.02~~ | data/2014.02.csv | https://drive.google.com/open?id=0B7UapTwn9AahWkdEWnltRjUwVjQ                                               |\n",
    "| ~~2015.01~~ | data/2015.01.csv | https://drive.google.com/open?id=0B7UapTwn9AahSHl1aGNfTlNrYWc                                               |\n",
    "| 2016.01 | data/2016.01.csv | https://drive.google.com/open?id=0B7UapTwn9AahLTJmSE5zOUQ0aGc                                               |\n",
    "| 2016.02 | data/2016.02/    | https://drive.google.com/open?id=0B7UapTwn9AahUGtySFBjdHBCcWs                                               |\n",
    "| 2017.01 | data/2017.01/    | https://docs.google.com/spreadsheets/d/1diZG7ruHJ4OgO2-tbnO-ZnhjxjOnYjMVSxl7I-4LT54/edit#gid=1424918437     |\n",
    "| 2017.02 | data/2017.02/    | https://docs.google.com/spreadsheets/d/1f1CAmzbVtoL66IwXJWEf0Mn-QbMNGZIoCQ_b1HB-91E                         |\n"
   ]
  },
  {
   "cell_type": "code",
   "execution_count": 1,
   "metadata": {
    "collapsed": false,
    "scrolled": false
   },
   "outputs": [
    {
     "data": {
      "text/markdown": [
       "## Géneros censandos en los datasets"
      ],
      "text/plain": [
       "<IPython.core.display.Markdown object>"
      ]
     },
     "metadata": {},
     "output_type": "display_data"
    },
    {
     "data": {
      "text/markdown": [
       "- Hombre (16899 total)"
      ],
      "text/plain": [
       "<IPython.core.display.Markdown object>"
      ]
     },
     "metadata": {},
     "output_type": "display_data"
    },
    {
     "data": {
      "text/markdown": [
       "- Mujer (1420 total)"
      ],
      "text/plain": [
       "<IPython.core.display.Markdown object>"
      ]
     },
     "metadata": {},
     "output_type": "display_data"
    },
    {
     "data": {
      "text/markdown": [
       "- Otros (19 total)"
      ],
      "text/plain": [
       "<IPython.core.display.Markdown object>"
      ]
     },
     "metadata": {},
     "output_type": "display_data"
    },
    {
     "data": {
      "text/plain": [
       "[None, None, None]"
      ]
     },
     "execution_count": 1,
     "metadata": {},
     "output_type": "execute_result"
    }
   ],
   "source": [
    "import pandas as pd\n",
    "import numpy as np\n",
    "import re\n",
    "from matplotlib import cm\n",
    "from functools import reduce\n",
    "from IPython.display import display, Markdown as md\n",
    "\n",
    "def getPeriodDF(period, publish_date, csv_path, columns_src, columns_dst, transforms = []):\n",
    "    # given a csv_path, extract src columns into dst columns by applying a transform function for a certain period name\n",
    "    df_src = pd.read_csv(csv_path)\n",
    "    df_dst = pd.DataFrame(columns=['period', 'publish_date']+columns_dst)\n",
    "    df_dst[columns_dst] = df_src[columns_src]\n",
    "    df_dst['period'] = period\n",
    "    df_dst['publish_date'] = pd.to_datetime(publish_date)\n",
    "    # apply custom transformations\n",
    "    for transform in transforms:\n",
    "        df_src, df_dst = transform(df_src, df_dst)\n",
    "    return df_dst\n",
    "\n",
    "def transformNormalize(df_src, df_dst):\n",
    "    # cast to float the salary column, some datasets gets wrongly parsed due to crappy user input\n",
    "    df_dst['salary'] = df_dst['salary'].astype(float)\n",
    "    df_dst['age'] = df_dst['age'].astype(str)\n",
    "    # normalize stack column\n",
    "    re_separator = ' *, *| *; *| *\\. *| *\\| *| *\\/ *| *- *'\n",
    "    re_garbage = '\"\"\"|\\*|nan|='\n",
    "    df_dst['stack'] = df_dst['stack'].apply(lambda s: re.split(re_separator, re.sub(re_garbage, '', str(s)).strip().lower()))\n",
    "    # munge the dataset, removing entries that we consider not realistic for our analysis\n",
    "    munging_mask = (df_dst.salary > 5000) & (df_dst.salary < 300000)\n",
    "    df_src = df_src.loc[munging_mask]\n",
    "    df_dst = df_dst.loc[munging_mask]\n",
    "    return df_src, df_dst\n",
    "\n",
    "def transformNet2Brute(df_src, df_dst):\n",
    "    # filter wether net or brute income\n",
    "    mask = np.array(df_src['Bruto o neto?'].str.contains('Neto'), dtype = bool)\n",
    "    net_factor = np.array([1.0] * len(df_dst));\n",
    "    # scales up net salary into brute, given Argentina's social security contributions\n",
    "    net_factor[ mask ] = 1/0.83\n",
    "    df_dst['salary'] = net_factor * df_dst['salary']\n",
    "    return df_src, df_dst\n",
    "\n",
    "def transformNet2Brute201702(df_src, df_dst):\n",
    "    # filter wether net or brute income\n",
    "    mask = np.array(df_src['¿Porcentaje, bruto o neto?'].str.contains('Neto'), dtype = bool)\n",
    "    net_factor = np.array([1.0] * len(df_dst));\n",
    "    # scales up net salary into brute, given Argentina's social security contributions\n",
    "    net_factor[ mask ] = 1/0.83\n",
    "    df_dst['salary'] = net_factor * df_dst['salary']\n",
    "    return df_src, df_dst\n",
    "\n",
    "src_common_cols = [\n",
    "    'Tengo',\n",
    "    'Años de experiencia',\n",
    "    'Años en el puesto actual',\n",
    "    'Trabajo de',\n",
    "    'Tecnologías que utilizás']\n",
    "\n",
    "dst_cols = [\n",
    "    'salary',\n",
    "    'location',\n",
    "    'gender',\n",
    "    'age',\n",
    "    'yoe',\n",
    "    'yip',\n",
    "    'role',\n",
    "    'stack']\n",
    "\n",
    "df3 = getPeriodDF('2016.01', '2016-02-01', '../../data/2016.01.csv', \n",
    "                  ['Salario mensual (AR$)', 'Trabajo en', 'Soy'] + src_common_cols, dst_cols, \n",
    "                  [transformNormalize, transformNet2Brute])\n",
    "\n",
    "df4 = getPeriodDF('2016.02', '2016-08-01', '../../data/2016.02/argentina.csv', \n",
    "                  ['Salario mensual (en tu moneda local)', 'Argentina', 'Soy'] + src_common_cols, dst_cols, \n",
    "                  [transformNormalize, transformNet2Brute])\n",
    "\n",
    "df5 = getPeriodDF('2017.01', '2017-02-01', '../../data/2017.01/argentina.csv', \n",
    "                  ['Salario mensual (en tu moneda local)', 'Argentina', 'Soy'] + src_common_cols, dst_cols, \n",
    "                  [transformNormalize, transformNet2Brute])\n",
    "\n",
    "df6 = getPeriodDF('2017.02', '2017-09-01', '../../data/2017.02/argentina.csv', \n",
    "                  ['Salario mensual (en tu moneda local)', 'Argentina', 'Me identifico'] + src_common_cols, dst_cols, \n",
    "                  [transformNormalize, transformNet2Brute201702])\n",
    "\n",
    "# compute the union of all the datasets as a signe pandas dataframe\n",
    "df = pd.concat([df3, df4, df5, df6])\n",
    "\n",
    "# extract the list of periods\n",
    "periods = df.period.unique()\n",
    "\n",
    "# extract the list of genders\n",
    "genders = df.gender.unique()\n",
    "\n",
    "# extract the list of yoes\n",
    "yoes = df.yoe.unique()\n",
    "\n",
    "display(md('## Géneros censandos en los datasets'))\n",
    "[display(md('- %s (%d total)' % (g, len(df.query('gender == \"%s\"' % g))))) for g in genders]"
   ]
  },
  {
   "cell_type": "code",
   "execution_count": 2,
   "metadata": {
    "collapsed": false,
    "scrolled": false,
    "slideshow": {
     "slide_type": "-"
    }
   },
   "outputs": [
    {
     "data": {
      "text/markdown": [
       "\n",
       "## Años de experiencia\n",
       "\n",
       "El seniority fue simplificado en tres niveles, de los cuales se seleccionaron arbitrariamente los rangos\n",
       "que conforman estos niveles.  Para evitar discrepancias, se sobrelaparon rangos en los diferentes niveles.\n",
       "Por ejemplo, un desarrollador con 3 años de experiencia puede considerarse Junior ó Semi-Senior a la vez, eso\n",
       "dependerá de cada caso.\n",
       "\n",
       "### Sobre la categoría \"Otros\"\n",
       "\n",
       "Al parecer, solo se registra el grupo \"Otros\" en el último dataset, donde se lo habría incluído.  Por la \n",
       "cantidad baja de resultados, y la ausencia de dimensión tiempo en los datasets, resulta imposible visualilzar dichos\n",
       "resultados.\n",
       "\n",
       "A continuación se detalla las cantidades por segmento y período de la muestra.\n"
      ],
      "text/plain": [
       "<IPython.core.display.Markdown object>"
      ]
     },
     "metadata": {},
     "output_type": "display_data"
    },
    {
     "data": {
      "text/markdown": [
       "### Hombre"
      ],
      "text/plain": [
       "<IPython.core.display.Markdown object>"
      ]
     },
     "metadata": {},
     "output_type": "display_data"
    },
    {
     "data": {
      "text/markdown": [
       "#### Juniors"
      ],
      "text/plain": [
       "<IPython.core.display.Markdown object>"
      ]
     },
     "metadata": {},
     "output_type": "display_data"
    },
    {
     "data": {
      "text/markdown": [
       "- 1 - 2 año(s) (1288 total)"
      ],
      "text/plain": [
       "<IPython.core.display.Markdown object>"
      ]
     },
     "metadata": {},
     "output_type": "display_data"
    },
    {
     "data": {
      "text/markdown": [
       "- Menos de un año año(s) (831 total)"
      ],
      "text/plain": [
       "<IPython.core.display.Markdown object>"
      ]
     },
     "metadata": {},
     "output_type": "display_data"
    },
    {
     "data": {
      "text/markdown": [
       "- 1 año(s) (332 total)"
      ],
      "text/plain": [
       "<IPython.core.display.Markdown object>"
      ]
     },
     "metadata": {},
     "output_type": "display_data"
    },
    {
     "data": {
      "text/markdown": [
       "- 2 año(s) (527 total)"
      ],
      "text/plain": [
       "<IPython.core.display.Markdown object>"
      ]
     },
     "metadata": {},
     "output_type": "display_data"
    },
    {
     "data": {
      "text/markdown": [
       "- 3 año(s) (562 total)"
      ],
      "text/plain": [
       "<IPython.core.display.Markdown object>"
      ]
     },
     "metadata": {},
     "output_type": "display_data"
    },
    {
     "data": {
      "text/markdown": [
       "#### Semi-Seniors"
      ],
      "text/plain": [
       "<IPython.core.display.Markdown object>"
      ]
     },
     "metadata": {},
     "output_type": "display_data"
    },
    {
     "data": {
      "text/markdown": [
       "- 3 - 5 año(s) (2203 total)"
      ],
      "text/plain": [
       "<IPython.core.display.Markdown object>"
      ]
     },
     "metadata": {},
     "output_type": "display_data"
    },
    {
     "data": {
      "text/markdown": [
       "- 3 año(s) (562 total)"
      ],
      "text/plain": [
       "<IPython.core.display.Markdown object>"
      ]
     },
     "metadata": {},
     "output_type": "display_data"
    },
    {
     "data": {
      "text/markdown": [
       "- 4 año(s) (451 total)"
      ],
      "text/plain": [
       "<IPython.core.display.Markdown object>"
      ]
     },
     "metadata": {},
     "output_type": "display_data"
    },
    {
     "data": {
      "text/markdown": [
       "- 5 año(s) (680 total)"
      ],
      "text/plain": [
       "<IPython.core.display.Markdown object>"
      ]
     },
     "metadata": {},
     "output_type": "display_data"
    },
    {
     "data": {
      "text/markdown": [
       "- 6 año(s) (520 total)"
      ],
      "text/plain": [
       "<IPython.core.display.Markdown object>"
      ]
     },
     "metadata": {},
     "output_type": "display_data"
    },
    {
     "data": {
      "text/markdown": [
       "#### Seniors"
      ],
      "text/plain": [
       "<IPython.core.display.Markdown object>"
      ]
     },
     "metadata": {},
     "output_type": "display_data"
    },
    {
     "data": {
      "text/markdown": [
       "- 5 - 7 año(s) (1718 total)"
      ],
      "text/plain": [
       "<IPython.core.display.Markdown object>"
      ]
     },
     "metadata": {},
     "output_type": "display_data"
    },
    {
     "data": {
      "text/markdown": [
       "- 8 - 10 año(s) (1602 total)"
      ],
      "text/plain": [
       "<IPython.core.display.Markdown object>"
      ]
     },
     "metadata": {},
     "output_type": "display_data"
    },
    {
     "data": {
      "text/markdown": [
       "- 5 año(s) (680 total)"
      ],
      "text/plain": [
       "<IPython.core.display.Markdown object>"
      ]
     },
     "metadata": {},
     "output_type": "display_data"
    },
    {
     "data": {
      "text/markdown": [
       "- 6 año(s) (520 total)"
      ],
      "text/plain": [
       "<IPython.core.display.Markdown object>"
      ]
     },
     "metadata": {},
     "output_type": "display_data"
    },
    {
     "data": {
      "text/markdown": [
       "- 7 año(s) (460 total)"
      ],
      "text/plain": [
       "<IPython.core.display.Markdown object>"
      ]
     },
     "metadata": {},
     "output_type": "display_data"
    },
    {
     "data": {
      "text/markdown": [
       "- 8 año(s) (461 total)"
      ],
      "text/plain": [
       "<IPython.core.display.Markdown object>"
      ]
     },
     "metadata": {},
     "output_type": "display_data"
    },
    {
     "data": {
      "text/markdown": [
       "- 9 año(s) (431 total)"
      ],
      "text/plain": [
       "<IPython.core.display.Markdown object>"
      ]
     },
     "metadata": {},
     "output_type": "display_data"
    },
    {
     "data": {
      "text/markdown": [
       "- 10 año(s) (0 total)"
      ],
      "text/plain": [
       "<IPython.core.display.Markdown object>"
      ]
     },
     "metadata": {},
     "output_type": "display_data"
    },
    {
     "data": {
      "text/markdown": [
       "- 10+ año(s) (4833 total)"
      ],
      "text/plain": [
       "<IPython.core.display.Markdown object>"
      ]
     },
     "metadata": {},
     "output_type": "display_data"
    },
    {
     "data": {
      "text/markdown": [
       "### Mujer"
      ],
      "text/plain": [
       "<IPython.core.display.Markdown object>"
      ]
     },
     "metadata": {},
     "output_type": "display_data"
    },
    {
     "data": {
      "text/markdown": [
       "#### Juniors"
      ],
      "text/plain": [
       "<IPython.core.display.Markdown object>"
      ]
     },
     "metadata": {},
     "output_type": "display_data"
    },
    {
     "data": {
      "text/markdown": [
       "- 1 - 2 año(s) (115 total)"
      ],
      "text/plain": [
       "<IPython.core.display.Markdown object>"
      ]
     },
     "metadata": {},
     "output_type": "display_data"
    },
    {
     "data": {
      "text/markdown": [
       "- Menos de un año año(s) (98 total)"
      ],
      "text/plain": [
       "<IPython.core.display.Markdown object>"
      ]
     },
     "metadata": {},
     "output_type": "display_data"
    },
    {
     "data": {
      "text/markdown": [
       "- 1 año(s) (40 total)"
      ],
      "text/plain": [
       "<IPython.core.display.Markdown object>"
      ]
     },
     "metadata": {},
     "output_type": "display_data"
    },
    {
     "data": {
      "text/markdown": [
       "- 2 año(s) (61 total)"
      ],
      "text/plain": [
       "<IPython.core.display.Markdown object>"
      ]
     },
     "metadata": {},
     "output_type": "display_data"
    },
    {
     "data": {
      "text/markdown": [
       "- 3 año(s) (62 total)"
      ],
      "text/plain": [
       "<IPython.core.display.Markdown object>"
      ]
     },
     "metadata": {},
     "output_type": "display_data"
    },
    {
     "data": {
      "text/markdown": [
       "#### Semi-Seniors"
      ],
      "text/plain": [
       "<IPython.core.display.Markdown object>"
      ]
     },
     "metadata": {},
     "output_type": "display_data"
    },
    {
     "data": {
      "text/markdown": [
       "- 3 - 5 año(s) (171 total)"
      ],
      "text/plain": [
       "<IPython.core.display.Markdown object>"
      ]
     },
     "metadata": {},
     "output_type": "display_data"
    },
    {
     "data": {
      "text/markdown": [
       "- 3 año(s) (62 total)"
      ],
      "text/plain": [
       "<IPython.core.display.Markdown object>"
      ]
     },
     "metadata": {},
     "output_type": "display_data"
    },
    {
     "data": {
      "text/markdown": [
       "- 4 año(s) (64 total)"
      ],
      "text/plain": [
       "<IPython.core.display.Markdown object>"
      ]
     },
     "metadata": {},
     "output_type": "display_data"
    },
    {
     "data": {
      "text/markdown": [
       "- 5 año(s) (79 total)"
      ],
      "text/plain": [
       "<IPython.core.display.Markdown object>"
      ]
     },
     "metadata": {},
     "output_type": "display_data"
    },
    {
     "data": {
      "text/markdown": [
       "- 6 año(s) (51 total)"
      ],
      "text/plain": [
       "<IPython.core.display.Markdown object>"
      ]
     },
     "metadata": {},
     "output_type": "display_data"
    },
    {
     "data": {
      "text/markdown": [
       "#### Seniors"
      ],
      "text/plain": [
       "<IPython.core.display.Markdown object>"
      ]
     },
     "metadata": {},
     "output_type": "display_data"
    },
    {
     "data": {
      "text/markdown": [
       "- 5 - 7 año(s) (94 total)"
      ],
      "text/plain": [
       "<IPython.core.display.Markdown object>"
      ]
     },
     "metadata": {},
     "output_type": "display_data"
    },
    {
     "data": {
      "text/markdown": [
       "- 8 - 10 año(s) (101 total)"
      ],
      "text/plain": [
       "<IPython.core.display.Markdown object>"
      ]
     },
     "metadata": {},
     "output_type": "display_data"
    },
    {
     "data": {
      "text/markdown": [
       "- 5 año(s) (79 total)"
      ],
      "text/plain": [
       "<IPython.core.display.Markdown object>"
      ]
     },
     "metadata": {},
     "output_type": "display_data"
    },
    {
     "data": {
      "text/markdown": [
       "- 6 año(s) (51 total)"
      ],
      "text/plain": [
       "<IPython.core.display.Markdown object>"
      ]
     },
     "metadata": {},
     "output_type": "display_data"
    },
    {
     "data": {
      "text/markdown": [
       "- 7 año(s) (51 total)"
      ],
      "text/plain": [
       "<IPython.core.display.Markdown object>"
      ]
     },
     "metadata": {},
     "output_type": "display_data"
    },
    {
     "data": {
      "text/markdown": [
       "- 8 año(s) (47 total)"
      ],
      "text/plain": [
       "<IPython.core.display.Markdown object>"
      ]
     },
     "metadata": {},
     "output_type": "display_data"
    },
    {
     "data": {
      "text/markdown": [
       "- 9 año(s) (52 total)"
      ],
      "text/plain": [
       "<IPython.core.display.Markdown object>"
      ]
     },
     "metadata": {},
     "output_type": "display_data"
    },
    {
     "data": {
      "text/markdown": [
       "- 10 año(s) (0 total)"
      ],
      "text/plain": [
       "<IPython.core.display.Markdown object>"
      ]
     },
     "metadata": {},
     "output_type": "display_data"
    },
    {
     "data": {
      "text/markdown": [
       "- 10+ año(s) (334 total)"
      ],
      "text/plain": [
       "<IPython.core.display.Markdown object>"
      ]
     },
     "metadata": {},
     "output_type": "display_data"
    },
    {
     "data": {
      "text/markdown": [
       "### Otros"
      ],
      "text/plain": [
       "<IPython.core.display.Markdown object>"
      ]
     },
     "metadata": {},
     "output_type": "display_data"
    },
    {
     "data": {
      "text/markdown": [
       "#### Juniors"
      ],
      "text/plain": [
       "<IPython.core.display.Markdown object>"
      ]
     },
     "metadata": {},
     "output_type": "display_data"
    },
    {
     "data": {
      "text/markdown": [
       "- 1 - 2 año(s) (0 total)"
      ],
      "text/plain": [
       "<IPython.core.display.Markdown object>"
      ]
     },
     "metadata": {},
     "output_type": "display_data"
    },
    {
     "data": {
      "text/markdown": [
       "- Menos de un año año(s) (0 total)"
      ],
      "text/plain": [
       "<IPython.core.display.Markdown object>"
      ]
     },
     "metadata": {},
     "output_type": "display_data"
    },
    {
     "data": {
      "text/markdown": [
       "- 1 año(s) (2 total)"
      ],
      "text/plain": [
       "<IPython.core.display.Markdown object>"
      ]
     },
     "metadata": {},
     "output_type": "display_data"
    },
    {
     "data": {
      "text/markdown": [
       "- 2 año(s) (0 total)"
      ],
      "text/plain": [
       "<IPython.core.display.Markdown object>"
      ]
     },
     "metadata": {},
     "output_type": "display_data"
    },
    {
     "data": {
      "text/markdown": [
       "- 3 año(s) (3 total)"
      ],
      "text/plain": [
       "<IPython.core.display.Markdown object>"
      ]
     },
     "metadata": {},
     "output_type": "display_data"
    },
    {
     "data": {
      "text/markdown": [
       "#### Semi-Seniors"
      ],
      "text/plain": [
       "<IPython.core.display.Markdown object>"
      ]
     },
     "metadata": {},
     "output_type": "display_data"
    },
    {
     "data": {
      "text/markdown": [
       "- 3 - 5 año(s) (0 total)"
      ],
      "text/plain": [
       "<IPython.core.display.Markdown object>"
      ]
     },
     "metadata": {},
     "output_type": "display_data"
    },
    {
     "data": {
      "text/markdown": [
       "- 3 año(s) (3 total)"
      ],
      "text/plain": [
       "<IPython.core.display.Markdown object>"
      ]
     },
     "metadata": {},
     "output_type": "display_data"
    },
    {
     "data": {
      "text/markdown": [
       "- 4 año(s) (1 total)"
      ],
      "text/plain": [
       "<IPython.core.display.Markdown object>"
      ]
     },
     "metadata": {},
     "output_type": "display_data"
    },
    {
     "data": {
      "text/markdown": [
       "- 5 año(s) (0 total)"
      ],
      "text/plain": [
       "<IPython.core.display.Markdown object>"
      ]
     },
     "metadata": {},
     "output_type": "display_data"
    },
    {
     "data": {
      "text/markdown": [
       "- 6 año(s) (3 total)"
      ],
      "text/plain": [
       "<IPython.core.display.Markdown object>"
      ]
     },
     "metadata": {},
     "output_type": "display_data"
    },
    {
     "data": {
      "text/markdown": [
       "#### Seniors"
      ],
      "text/plain": [
       "<IPython.core.display.Markdown object>"
      ]
     },
     "metadata": {},
     "output_type": "display_data"
    },
    {
     "data": {
      "text/markdown": [
       "- 5 - 7 año(s) (0 total)"
      ],
      "text/plain": [
       "<IPython.core.display.Markdown object>"
      ]
     },
     "metadata": {},
     "output_type": "display_data"
    },
    {
     "data": {
      "text/markdown": [
       "- 8 - 10 año(s) (0 total)"
      ],
      "text/plain": [
       "<IPython.core.display.Markdown object>"
      ]
     },
     "metadata": {},
     "output_type": "display_data"
    },
    {
     "data": {
      "text/markdown": [
       "- 5 año(s) (0 total)"
      ],
      "text/plain": [
       "<IPython.core.display.Markdown object>"
      ]
     },
     "metadata": {},
     "output_type": "display_data"
    },
    {
     "data": {
      "text/markdown": [
       "- 6 año(s) (3 total)"
      ],
      "text/plain": [
       "<IPython.core.display.Markdown object>"
      ]
     },
     "metadata": {},
     "output_type": "display_data"
    },
    {
     "data": {
      "text/markdown": [
       "- 7 año(s) (1 total)"
      ],
      "text/plain": [
       "<IPython.core.display.Markdown object>"
      ]
     },
     "metadata": {},
     "output_type": "display_data"
    },
    {
     "data": {
      "text/markdown": [
       "- 8 año(s) (1 total)"
      ],
      "text/plain": [
       "<IPython.core.display.Markdown object>"
      ]
     },
     "metadata": {},
     "output_type": "display_data"
    },
    {
     "data": {
      "text/markdown": [
       "- 9 año(s) (0 total)"
      ],
      "text/plain": [
       "<IPython.core.display.Markdown object>"
      ]
     },
     "metadata": {},
     "output_type": "display_data"
    },
    {
     "data": {
      "text/markdown": [
       "- 10 año(s) (0 total)"
      ],
      "text/plain": [
       "<IPython.core.display.Markdown object>"
      ]
     },
     "metadata": {},
     "output_type": "display_data"
    },
    {
     "data": {
      "text/markdown": [
       "- 10+ año(s) (8 total)"
      ],
      "text/plain": [
       "<IPython.core.display.Markdown object>"
      ]
     },
     "metadata": {},
     "output_type": "display_data"
    }
   ],
   "source": [
    "# define arbitrary ranges for seniority\n",
    "yoes_jr = ['1 - 2', 'Menos de un año', '1', '2', '3']\n",
    "yoes_ssr = ['3 - 5', '3', '4', '5', '6']\n",
    "yoes_sr = ['5 - 7', '8 - 10', '5', '6', '7', '8', '9', '10', '10+']\n",
    "\n",
    "yoes_ranges = [yoes_jr, yoes_ssr, yoes_sr]\n",
    "yoes_ranges_names = ['Juniors', 'Semi-Seniors', 'Seniors']\n",
    "\n",
    "display(md(\"\"\"\n",
    "## Años de experiencia\n",
    "\n",
    "El seniority fue simplificado en tres niveles, de los cuales se seleccionaron arbitrariamente los rangos\n",
    "que conforman estos niveles.  Para evitar discrepancias, se sobrelaparon rangos en los diferentes niveles.\n",
    "Por ejemplo, un desarrollador con 3 años de experiencia puede considerarse Junior ó Semi-Senior a la vez, eso\n",
    "dependerá de cada caso.\n",
    "\n",
    "### Sobre la categoría \"Otros\"\n",
    "\n",
    "Al parecer, solo se registra el grupo \"Otros\" en el último dataset, donde se lo habría incluído.  Por la \n",
    "cantidad baja de resultados, y la ausencia de dimensión tiempo en los datasets, resulta imposible visualilzar dichos\n",
    "resultados.\n",
    "\n",
    "A continuación se detalla las cantidades por segmento y período de la muestra.\n",
    "\"\"\"))\n",
    "\n",
    "for i, gender in enumerate(genders):\n",
    "    display(md('### %s' % gender))\n",
    "    for j, yoes_range in enumerate(yoes_ranges):\n",
    "        display(md('#### %s' % yoes_ranges_names[j]))\n",
    "        [display(md('- %s año(s) (%d total)' % (y, len(df.query('gender == @gender & yoe in @y'))))) for y in yoes_range]"
   ]
  },
  {
   "cell_type": "code",
   "execution_count": 3,
   "metadata": {
    "collapsed": false,
    "scrolled": false
   },
   "outputs": [
    {
     "data": {
      "text/markdown": [
       "## Participación en las encuestas por género"
      ],
      "text/plain": [
       "<IPython.core.display.Markdown object>"
      ]
     },
     "metadata": {},
     "output_type": "display_data"
    },
    {
     "data": {
      "text/plain": [
       "<matplotlib.legend.Legend at 0x10db36c50>"
      ]
     },
     "execution_count": 3,
     "metadata": {},
     "output_type": "execute_result"
    },
    {
     "data": {
      "image/png": "[encoded data removed]",
      "text/plain": [
       "<matplotlib.figure.Figure at 0x10cf45f98>"
      ]
     },
     "metadata": {},
     "output_type": "display_data"
    }
   ],
   "source": [
    "import matplotlib.patches as mpatches\n",
    "import matplotlib.pyplot as plt\n",
    "\n",
    "%matplotlib inline\n",
    "plt.style.use(['classic', 'ggplot'])\n",
    "plt.rcParams.update({'figure.figsize': (10.0, 6.0), 'font.size': 8})\n",
    "\n",
    "genders_colors = cm.rainbow(np.linspace(0, 1, len(genders)))\n",
    "publish_dates = np.unique(df['publish_date'])\n",
    "\n",
    "y = []\n",
    "for i, gender in enumerate(genders):\n",
    "    gender_y = []\n",
    "    for j, date in enumerate(publish_dates):\n",
    "        count = df.query('gender == @gender & publish_date == @date').count()[0]\n",
    "        gender_y.append(count)\n",
    "    y.append(gender_y)\n",
    "\n",
    "# define data points for stackplot\n",
    "x = publish_dates\n",
    "y = np.row_stack(y)\n",
    "percent = np.divide(y, y.sum(axis=0).astype(float)*0.01)\n",
    "\n",
    "fig = plt.figure()\n",
    "ax = fig.add_subplot(111)\n",
    "ax.stackplot(x, percent, colors=genders_colors)\n",
    "ax.set_title('Nivel de participación en las encuestas por género')\n",
    "ax.set_ylabel('Porcentaje (%)')\n",
    "\n",
    "display(md('## Participación en las encuestas por género'))\n",
    "\n",
    "# creating the legend manually\n",
    "plt.legend([mpatches.Patch(color=genders_colors[i]) for i, gender in enumerate(genders)],\n",
    "           genders, \n",
    "           bbox_to_anchor=(1.05, 1), loc=2, borderaxespad=0.)"
   ]
  },
  {
   "cell_type": "code",
   "execution_count": 4,
   "metadata": {
    "collapsed": false,
    "scrolled": false
   },
   "outputs": [
    {
     "data": {
      "image/png": "[encoded data removed]",
      "text/plain": [
       "<matplotlib.figure.Figure at 0x10d9e60b8>"
      ]
     },
     "metadata": {},
     "output_type": "display_data"
    }
   ],
   "source": [
    "%matplotlib inline\n",
    "\n",
    "def getPlotSalarySeries(currencySeries):\n",
    "    s = currencySeries.apply(lambda x: float('{0:.2f}'.format(round(x/1000, 1))))\n",
    "    mu, sigma = np.mean(s), np.std(s)\n",
    "    median = np.median(s)\n",
    "    t = np.linspace(mu - 3*sigma, mu + 3*sigma, 1000)\n",
    "    d = sigma**2/mu\n",
    "    return mu, sigma, t, d, median, s\n",
    "\n",
    "plt.rcParams.update({'figure.figsize': (10.0, 24.0), 'font.size': 8})\n",
    "yoes_colors = cm.rainbow(np.linspace(0, 1, 2*len(yoes_ranges)))\n",
    "\n",
    "dfnd = []\n",
    "\n",
    "fig, ax = plt.subplots(len(yoes_ranges), 1)\n",
    "for i, yoe_range in enumerate(yoes_ranges):\n",
    "    for j, gender in enumerate(genders):\n",
    "        mus, sigmas, dates = [], [], []\n",
    "        for period in periods:\n",
    "            dft = df.query('gender == @gender & period == @period & yoe in @yoe_range')\n",
    "            if len(dft) == 0: continue\n",
    "            mu, sigma, t, d, m, s = getPlotSalarySeries(dft.salary)\n",
    "            mus.append(mu)\n",
    "            sigmas.append(sigma)\n",
    "            dates.append(np.max(dft['publish_date']))\n",
    "            dfnd += [[gender, yoes_ranges_names[i], period, mu, sigma]]\n",
    "\n",
    "        ax[i].plot(dates, mus, '+', label='$\\mu$ %s' % gender, ls='-', c=yoes_colors[j])\n",
    "        ax[i].plot(dates, sigmas, '+', label='$\\sigma$ %s' % gender, ls=':', c=yoes_colors[j])\n",
    "        ax[i].set_title('%s %s' % (yoes_ranges_names[i], yoe_range))\n",
    "\n",
    "    ax[i].set_xlabel('date'); ax[i].set_ylabel('ingresos brutos [1000 AR$/mo]')\n",
    "    ax[i].legend(bbox_to_anchor=(1.05, 1), loc=2, borderaxespad=0.)\n",
    "fig.canvas.draw()"
   ]
  },
  {
   "cell_type": "markdown",
   "metadata": {},
   "source": [
    "## Conclusión\n",
    "\n",
    "Como es de público conocimiento, en la Industria del Software la desigualdad de género es muy remarcada.  Se puede observar sin embargo, una leve tendencia a revertir esta situación (ver primer gráfico).  Aunque cabe aclarar, como ya se presentó en el [análisis previo](https://github.com/gerardobort/sysarmy-data/blob/master/notebooks/intra_period_argentina.ipynb), existe una variación del espacio muestral en las encuestas de `SysArmy` a través del tiempo, lo cual puede interferir en los resultados.\n",
    "\n",
    "Por otra parte, los niveles de ingresos censados presentan marcadas diferencias, sobre todo para puestos Seniors.  Este dato es también conocido en Argentina y el resto del mundo, y pudo corroborarse.  Se puede observar también, que la brecha salarial entre distíntos géneros no tiende a cerrarse en el caso de Seniors, sino por el contrario se ensancha.  Finalmente, para puestos de nivel medio, sí se observa una mejora en la reducción de la brecha salarial."
   ]
  },
  {
   "cell_type": "code",
   "execution_count": 5,
   "metadata": {
    "collapsed": false
   },
   "outputs": [
    {
     "data": {
      "text/markdown": [
       "\n",
       "## Bonus track\n",
       "\n",
       "Detalle de sueldos por período, seniority, y género.\n",
       "Véase también [CESSI dio a conocer el salario de los Programadores en Argentina](http://www.cessi.org.ar/ver-noticias-cessi-dio-a-conocer-el-salario-de-los-programadores-en-argentina-2129)\n"
      ],
      "text/plain": [
       "<IPython.core.display.Markdown object>"
      ]
     },
     "metadata": {},
     "output_type": "display_data"
    },
    {
     "data": {
      "text/markdown": [
       "### 2017.02"
      ],
      "text/plain": [
       "<IPython.core.display.Markdown object>"
      ]
     },
     "metadata": {},
     "output_type": "display_data"
    },
    {
     "data": {
      "text/html": [
       "<div>\n",
       "<table border=\"1\" class=\"dataframe\">\n",
       "  <thead>\n",
       "    <tr style=\"text-align: right;\">\n",
       "      <th></th>\n",
       "      <th>Género</th>\n",
       "      <th>Seniority</th>\n",
       "      <th>period</th>\n",
       "      <th>Salario Bruto mensual</th>\n",
       "      <th>Desviación estándar</th>\n",
       "    </tr>\n",
       "  </thead>\n",
       "  <tbody>\n",
       "    <tr>\n",
       "      <th>3</th>\n",
       "      <td>Hombre</td>\n",
       "      <td>Juniors</td>\n",
       "      <td>2017.02</td>\n",
       "      <td>22.257480</td>\n",
       "      <td>11.832849</td>\n",
       "    </tr>\n",
       "    <tr>\n",
       "      <th>7</th>\n",
       "      <td>Mujer</td>\n",
       "      <td>Juniors</td>\n",
       "      <td>2017.02</td>\n",
       "      <td>20.246903</td>\n",
       "      <td>7.922758</td>\n",
       "    </tr>\n",
       "    <tr>\n",
       "      <th>8</th>\n",
       "      <td>Otros</td>\n",
       "      <td>Juniors</td>\n",
       "      <td>2017.02</td>\n",
       "      <td>26.320000</td>\n",
       "      <td>19.660051</td>\n",
       "    </tr>\n",
       "    <tr>\n",
       "      <th>12</th>\n",
       "      <td>Hombre</td>\n",
       "      <td>Semi-Seniors</td>\n",
       "      <td>2017.02</td>\n",
       "      <td>30.186012</td>\n",
       "      <td>16.461985</td>\n",
       "    </tr>\n",
       "    <tr>\n",
       "      <th>16</th>\n",
       "      <td>Mujer</td>\n",
       "      <td>Semi-Seniors</td>\n",
       "      <td>2017.02</td>\n",
       "      <td>30.402632</td>\n",
       "      <td>15.933381</td>\n",
       "    </tr>\n",
       "    <tr>\n",
       "      <th>17</th>\n",
       "      <td>Otros</td>\n",
       "      <td>Semi-Seniors</td>\n",
       "      <td>2017.02</td>\n",
       "      <td>32.485714</td>\n",
       "      <td>21.407571</td>\n",
       "    </tr>\n",
       "    <tr>\n",
       "      <th>21</th>\n",
       "      <td>Hombre</td>\n",
       "      <td>Seniors</td>\n",
       "      <td>2017.02</td>\n",
       "      <td>42.138753</td>\n",
       "      <td>25.585862</td>\n",
       "    </tr>\n",
       "    <tr>\n",
       "      <th>25</th>\n",
       "      <td>Mujer</td>\n",
       "      <td>Seniors</td>\n",
       "      <td>2017.02</td>\n",
       "      <td>37.127532</td>\n",
       "      <td>17.357438</td>\n",
       "    </tr>\n",
       "    <tr>\n",
       "      <th>26</th>\n",
       "      <td>Otros</td>\n",
       "      <td>Seniors</td>\n",
       "      <td>2017.02</td>\n",
       "      <td>46.300000</td>\n",
       "      <td>22.502581</td>\n",
       "    </tr>\n",
       "  </tbody>\n",
       "</table>\n",
       "</div>"
      ],
      "text/plain": [
       "    Género     Seniority   period  Salario Bruto mensual  Desviación estándar\n",
       "3   Hombre       Juniors  2017.02              22.257480            11.832849\n",
       "7    Mujer       Juniors  2017.02              20.246903             7.922758\n",
       "8    Otros       Juniors  2017.02              26.320000            19.660051\n",
       "12  Hombre  Semi-Seniors  2017.02              30.186012            16.461985\n",
       "16   Mujer  Semi-Seniors  2017.02              30.402632            15.933381\n",
       "17   Otros  Semi-Seniors  2017.02              32.485714            21.407571\n",
       "21  Hombre       Seniors  2017.02              42.138753            25.585862\n",
       "25   Mujer       Seniors  2017.02              37.127532            17.357438\n",
       "26   Otros       Seniors  2017.02              46.300000            22.502581"
      ]
     },
     "metadata": {},
     "output_type": "display_data"
    },
    {
     "data": {
      "text/markdown": [
       "### 2017.01"
      ],
      "text/plain": [
       "<IPython.core.display.Markdown object>"
      ]
     },
     "metadata": {},
     "output_type": "display_data"
    },
    {
     "data": {
      "text/html": [
       "<div>\n",
       "<table border=\"1\" class=\"dataframe\">\n",
       "  <thead>\n",
       "    <tr style=\"text-align: right;\">\n",
       "      <th></th>\n",
       "      <th>Género</th>\n",
       "      <th>Seniority</th>\n",
       "      <th>period</th>\n",
       "      <th>Salario Bruto mensual</th>\n",
       "      <th>Desviación estándar</th>\n",
       "    </tr>\n",
       "  </thead>\n",
       "  <tbody>\n",
       "    <tr>\n",
       "      <th>2</th>\n",
       "      <td>Hombre</td>\n",
       "      <td>Juniors</td>\n",
       "      <td>2017.01</td>\n",
       "      <td>17.773200</td>\n",
       "      <td>8.071967</td>\n",
       "    </tr>\n",
       "    <tr>\n",
       "      <th>6</th>\n",
       "      <td>Mujer</td>\n",
       "      <td>Juniors</td>\n",
       "      <td>2017.01</td>\n",
       "      <td>17.087379</td>\n",
       "      <td>8.367328</td>\n",
       "    </tr>\n",
       "    <tr>\n",
       "      <th>11</th>\n",
       "      <td>Hombre</td>\n",
       "      <td>Semi-Seniors</td>\n",
       "      <td>2017.01</td>\n",
       "      <td>23.722034</td>\n",
       "      <td>10.861093</td>\n",
       "    </tr>\n",
       "    <tr>\n",
       "      <th>15</th>\n",
       "      <td>Mujer</td>\n",
       "      <td>Semi-Seniors</td>\n",
       "      <td>2017.01</td>\n",
       "      <td>22.267308</td>\n",
       "      <td>10.409393</td>\n",
       "    </tr>\n",
       "    <tr>\n",
       "      <th>20</th>\n",
       "      <td>Hombre</td>\n",
       "      <td>Seniors</td>\n",
       "      <td>2017.01</td>\n",
       "      <td>31.226782</td>\n",
       "      <td>16.490655</td>\n",
       "    </tr>\n",
       "    <tr>\n",
       "      <th>24</th>\n",
       "      <td>Mujer</td>\n",
       "      <td>Seniors</td>\n",
       "      <td>2017.01</td>\n",
       "      <td>27.227861</td>\n",
       "      <td>11.869105</td>\n",
       "    </tr>\n",
       "  </tbody>\n",
       "</table>\n",
       "</div>"
      ],
      "text/plain": [
       "    Género     Seniority   period  Salario Bruto mensual  Desviación estándar\n",
       "2   Hombre       Juniors  2017.01              17.773200             8.071967\n",
       "6    Mujer       Juniors  2017.01              17.087379             8.367328\n",
       "11  Hombre  Semi-Seniors  2017.01              23.722034            10.861093\n",
       "15   Mujer  Semi-Seniors  2017.01              22.267308            10.409393\n",
       "20  Hombre       Seniors  2017.01              31.226782            16.490655\n",
       "24   Mujer       Seniors  2017.01              27.227861            11.869105"
      ]
     },
     "metadata": {},
     "output_type": "display_data"
    },
    {
     "data": {
      "text/markdown": [
       "### 2016.02"
      ],
      "text/plain": [
       "<IPython.core.display.Markdown object>"
      ]
     },
     "metadata": {},
     "output_type": "display_data"
    },
    {
     "data": {
      "text/html": [
       "<div>\n",
       "<table border=\"1\" class=\"dataframe\">\n",
       "  <thead>\n",
       "    <tr style=\"text-align: right;\">\n",
       "      <th></th>\n",
       "      <th>Género</th>\n",
       "      <th>Seniority</th>\n",
       "      <th>period</th>\n",
       "      <th>Salario Bruto mensual</th>\n",
       "      <th>Desviación estándar</th>\n",
       "    </tr>\n",
       "  </thead>\n",
       "  <tbody>\n",
       "    <tr>\n",
       "      <th>1</th>\n",
       "      <td>Hombre</td>\n",
       "      <td>Juniors</td>\n",
       "      <td>2016.02</td>\n",
       "      <td>16.047674</td>\n",
       "      <td>16.167943</td>\n",
       "    </tr>\n",
       "    <tr>\n",
       "      <th>5</th>\n",
       "      <td>Mujer</td>\n",
       "      <td>Juniors</td>\n",
       "      <td>2016.02</td>\n",
       "      <td>15.288732</td>\n",
       "      <td>10.758312</td>\n",
       "    </tr>\n",
       "    <tr>\n",
       "      <th>10</th>\n",
       "      <td>Hombre</td>\n",
       "      <td>Semi-Seniors</td>\n",
       "      <td>2016.02</td>\n",
       "      <td>20.026973</td>\n",
       "      <td>11.060387</td>\n",
       "    </tr>\n",
       "    <tr>\n",
       "      <th>14</th>\n",
       "      <td>Mujer</td>\n",
       "      <td>Semi-Seniors</td>\n",
       "      <td>2016.02</td>\n",
       "      <td>19.489873</td>\n",
       "      <td>8.208017</td>\n",
       "    </tr>\n",
       "    <tr>\n",
       "      <th>19</th>\n",
       "      <td>Hombre</td>\n",
       "      <td>Seniors</td>\n",
       "      <td>2016.02</td>\n",
       "      <td>27.762592</td>\n",
       "      <td>14.072298</td>\n",
       "    </tr>\n",
       "    <tr>\n",
       "      <th>23</th>\n",
       "      <td>Mujer</td>\n",
       "      <td>Seniors</td>\n",
       "      <td>2016.02</td>\n",
       "      <td>27.952239</td>\n",
       "      <td>23.824735</td>\n",
       "    </tr>\n",
       "  </tbody>\n",
       "</table>\n",
       "</div>"
      ],
      "text/plain": [
       "    Género     Seniority   period  Salario Bruto mensual  Desviación estándar\n",
       "1   Hombre       Juniors  2016.02              16.047674            16.167943\n",
       "5    Mujer       Juniors  2016.02              15.288732            10.758312\n",
       "10  Hombre  Semi-Seniors  2016.02              20.026973            11.060387\n",
       "14   Mujer  Semi-Seniors  2016.02              19.489873             8.208017\n",
       "19  Hombre       Seniors  2016.02              27.762592            14.072298\n",
       "23   Mujer       Seniors  2016.02              27.952239            23.824735"
      ]
     },
     "metadata": {},
     "output_type": "display_data"
    },
    {
     "data": {
      "text/markdown": [
       "### 2016.01"
      ],
      "text/plain": [
       "<IPython.core.display.Markdown object>"
      ]
     },
     "metadata": {},
     "output_type": "display_data"
    },
    {
     "data": {
      "text/html": [
       "<div>\n",
       "<table border=\"1\" class=\"dataframe\">\n",
       "  <thead>\n",
       "    <tr style=\"text-align: right;\">\n",
       "      <th></th>\n",
       "      <th>Género</th>\n",
       "      <th>Seniority</th>\n",
       "      <th>period</th>\n",
       "      <th>Salario Bruto mensual</th>\n",
       "      <th>Desviación estándar</th>\n",
       "    </tr>\n",
       "  </thead>\n",
       "  <tbody>\n",
       "    <tr>\n",
       "      <th>0</th>\n",
       "      <td>Hombre</td>\n",
       "      <td>Juniors</td>\n",
       "      <td>2016.01</td>\n",
       "      <td>14.183154</td>\n",
       "      <td>15.205461</td>\n",
       "    </tr>\n",
       "    <tr>\n",
       "      <th>4</th>\n",
       "      <td>Mujer</td>\n",
       "      <td>Juniors</td>\n",
       "      <td>2016.01</td>\n",
       "      <td>13.808989</td>\n",
       "      <td>10.260655</td>\n",
       "    </tr>\n",
       "    <tr>\n",
       "      <th>9</th>\n",
       "      <td>Hombre</td>\n",
       "      <td>Semi-Seniors</td>\n",
       "      <td>2016.01</td>\n",
       "      <td>17.260857</td>\n",
       "      <td>14.086386</td>\n",
       "    </tr>\n",
       "    <tr>\n",
       "      <th>13</th>\n",
       "      <td>Mujer</td>\n",
       "      <td>Semi-Seniors</td>\n",
       "      <td>2016.01</td>\n",
       "      <td>15.630435</td>\n",
       "      <td>7.932456</td>\n",
       "    </tr>\n",
       "    <tr>\n",
       "      <th>18</th>\n",
       "      <td>Hombre</td>\n",
       "      <td>Seniors</td>\n",
       "      <td>2016.01</td>\n",
       "      <td>22.315252</td>\n",
       "      <td>14.905378</td>\n",
       "    </tr>\n",
       "    <tr>\n",
       "      <th>22</th>\n",
       "      <td>Mujer</td>\n",
       "      <td>Seniors</td>\n",
       "      <td>2016.01</td>\n",
       "      <td>20.658861</td>\n",
       "      <td>10.821493</td>\n",
       "    </tr>\n",
       "  </tbody>\n",
       "</table>\n",
       "</div>"
      ],
      "text/plain": [
       "    Género     Seniority   period  Salario Bruto mensual  Desviación estándar\n",
       "0   Hombre       Juniors  2016.01              14.183154            15.205461\n",
       "4    Mujer       Juniors  2016.01              13.808989            10.260655\n",
       "9   Hombre  Semi-Seniors  2016.01              17.260857            14.086386\n",
       "13   Mujer  Semi-Seniors  2016.01              15.630435             7.932456\n",
       "18  Hombre       Seniors  2016.01              22.315252            14.905378\n",
       "22   Mujer       Seniors  2016.01              20.658861            10.821493"
      ]
     },
     "metadata": {},
     "output_type": "display_data"
    }
   ],
   "source": [
    "display(md(\"\"\"\n",
    "## Bonus track\n",
    "\n",
    "Detalle de sueldos por período, seniority, y género.\n",
    "Véase también [CESSI dio a conocer el salario de los Programadores en Argentina](http://www.cessi.org.ar/ver-noticias-cessi-dio-a-conocer-el-salario-de-los-programadores-en-argentina-2129)\n",
    "\"\"\"))\n",
    "\n",
    "\n",
    "dfn = pd.DataFrame(dfnd, columns=['Género', 'Seniority', 'period', 'Salario Bruto mensual', 'Desviación estándar'])\n",
    "dfn\n",
    "\n",
    "for i, period in enumerate(reversed(periods)):\n",
    "    display(md('### %s' % period))\n",
    "    display(dfn.query('period == @period'))"
   ]
  }
 ],
 "metadata": {
  "celltoolbar": "Edit Metadata",
  "kernelspec": {
   "display_name": "Python 3",
   "language": "python",
   "name": "python3"
  },
  "language_info": {
   "codemirror_mode": {
    "name": "ipython",
    "version": 3
   },
   "file_extension": ".py",
   "mimetype": "text/x-python",
   "name": "python",
   "nbconvert_exporter": "python",
   "pygments_lexer": "ipython3",
   "version": "3.6.0"
  }
 },
 "nbformat": 4,
 "nbformat_minor": 2
}
